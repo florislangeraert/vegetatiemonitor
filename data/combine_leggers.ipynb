{
 "cells": [
  {
   "cell_type": "code",
   "execution_count": 21,
   "metadata": {},
   "outputs": [],
   "source": [
    "from urllib.request import urlopen\n",
    "import json\n",
    "from geojson import FeatureCollection, dump\n",
    "import datetime"
   ]
  },
  {
   "cell_type": "code",
   "execution_count": 22,
   "metadata": {},
   "outputs": [],
   "source": [
    "# Configure different leggers to be merged and the end and start date to set\n",
    "leggers = [{\n",
    "    'start_date': '01-01-2010',\n",
    "    'end_date': '30-04-2020',\n",
    "    'url': 'https://geoservices.rijkswaterstaat.nl/apps/geoserver/rws_vegetatielegger/ows?service=WFS&version=2.0.0&request=GetFeature&typeName=vegetatievlakken_2014&outputFormat=json&srsName=epsg:4326'  \n",
    "}, {\n",
    "    'start_date': '01-05-2020',\n",
    "    'end_date': '31-12-2030',\n",
    "    'file': 'D:/vegetatiemonitor/data/vegetatielegger_2020.geojson'\n",
    "#     'url': 'https://geoservices.rijkswaterstaat.nl/apps/geoserver/rws_vegetatielegger/ows?service=WFS&version=2.0.0&request=GetFeature&typeName=vegetatieklassen&outputFormat=json' \n",
    "#     --> this jsonm does not contain the correct properties yet\n",
    "}]\n"
   ]
  },
  {
   "cell_type": "code",
   "execution_count": 23,
   "metadata": {},
   "outputs": [],
   "source": [
    "features = []\n",
    "for legger in leggers: \n",
    "    if 'url' in legger:\n",
    "        response = urlopen(legger['url'])\n",
    "        data = json.loads(response.read())\n",
    "    elif 'file' in legger: \n",
    "        with open(legger['file']) as json_file:\n",
    "            data = json.load(json_file)\n",
    "            \n",
    "    for feature in data['features']: \n",
    "        feature['properties']['start_date'] = datetime.datetime.strptime(legger['start_date'], \"%d-%m-%Y\").timestamp()\n",
    "        feature['properties']['end_date'] = datetime.datetime.strptime(legger['end_date'], \"%d-%m-%Y\").timestamp()\n",
    "    features.extend(data['features'])\n"
   ]
  },
  {
   "cell_type": "code",
   "execution_count": 24,
   "metadata": {},
   "outputs": [],
   "source": [
    "collection = FeatureCollection(features)\n"
   ]
  },
  {
   "cell_type": "code",
   "execution_count": 25,
   "metadata": {},
   "outputs": [],
   "source": [
    "with open('vegetatievlakken-combo.geojson', 'w') as f:\n",
    "    json.dump(collection, f)"
   ]
  },
  {
   "cell_type": "code",
   "execution_count": null,
   "metadata": {},
   "outputs": [],
   "source": []
  },
  {
   "cell_type": "code",
   "execution_count": null,
   "metadata": {},
   "outputs": [],
   "source": []
  }
 ],
 "metadata": {
  "kernelspec": {
   "display_name": "Python 3",
   "language": "python",
   "name": "python3"
  },
  "language_info": {
   "codemirror_mode": {
    "name": "ipython",
    "version": 3
   },
   "file_extension": ".py",
   "mimetype": "text/x-python",
   "name": "python",
   "nbconvert_exporter": "python",
   "pygments_lexer": "ipython3",
   "version": "3.7.6"
  }
 },
 "nbformat": 4,
 "nbformat_minor": 4
}
